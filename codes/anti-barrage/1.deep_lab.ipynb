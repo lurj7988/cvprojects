{
 "cells": [
  {
   "cell_type": "code",
   "execution_count": 1,
   "id": "dfa8846a-e373-4f84-97d1-a3389f4fe009",
   "metadata": {
    "tags": []
   },
   "outputs": [],
   "source": [
    "# 语义分割Demo\n",
    "# 安装使用方法：https://pixellib.readthedocs.io/en/latest/index.html\n",
    "\n",
    "# python=3.8\n",
    "\n",
    "# TensorFlow\n",
    "# Windows：pip3 install tensorflow==2.2.0 (最新版的2.8可能会报错)\n",
    "# macOS：conda install -c conda-forge tensorflow\n",
    "\n",
    "# pip3 install imgaug\n",
    "# pip3 install pixellib --upgrade\n",
    "\n",
    "# conda install -c conda-forge jupyterlab"
   ]
  },
  {
   "cell_type": "code",
   "execution_count": 2,
   "id": "f6f79022-bda4-482c-8717-d81ceef29d83",
   "metadata": {
    "tags": []
   },
   "outputs": [],
   "source": [
    "# 导入常见包\n",
    "import cv2\n",
    "import numpy as np\n",
    "import matplotlib.pyplot as plt\n",
    "plt.rcParams['figure.dpi'] = 200"
   ]
  },
  {
   "cell_type": "code",
   "execution_count": 3,
   "id": "155e60ae-bc67-4ecb-94f7-2ccccf506984",
   "metadata": {
    "tags": []
   },
   "outputs": [],
   "source": [
    "# 读取图片\n",
    "img = cv2.imread('./images/baby.jpg')\n",
    "img_cvt =cv2.cvtColor(img,cv2.COLOR_BGR2RGB)"
   ]
  },
  {
   "cell_type": "code",
   "execution_count": null,
   "id": "7da49660-143a-4cba-80f0-560603ffe6e7",
   "metadata": {
    "tags": []
   },
   "outputs": [],
   "source": [
    "# 显示\n",
    "plt.imshow(img_cvt)"
   ]
  },
  {
   "cell_type": "code",
   "execution_count": 5,
   "id": "7c9b3a1f-de21-4642-9352-9e77ae929164",
   "metadata": {
    "tags": []
   },
   "outputs": [],
   "source": [
    "# 导入pixellib\n",
    "import pixellib"
   ]
  },
  {
   "cell_type": "code",
   "execution_count": 6,
   "id": "4dceffa0-cb80-48f8-9659-8cb3c74b1e52",
   "metadata": {
    "tags": []
   },
   "outputs": [],
   "source": [
    "# 导入语义分割\n",
    "from pixellib.semantic import semantic_segmentation"
   ]
  },
  {
   "cell_type": "code",
   "execution_count": 7,
   "id": "e6192814-22df-4136-b382-ba6b1bdb8cb8",
   "metadata": {},
   "outputs": [],
   "source": [
    "# 实例化\n",
    "segment = semantic_segmentation()"
   ]
  },
  {
   "cell_type": "code",
   "execution_count": 8,
   "id": "82638cf0-d731-4522-a88f-2f532769aa67",
   "metadata": {},
   "outputs": [],
   "source": [
    "# 加载模型\n",
    "segment.load_ade20k_model('./weights/deeplabv3_xception65_ade20k.h5')"
   ]
  },
  {
   "cell_type": "code",
   "execution_count": 9,
   "id": "4d0a5010-47e4-4591-b1d1-9ebc2523048d",
   "metadata": {},
   "outputs": [],
   "source": [
    "# 分割\n",
    "results,output = segment.segmentFrameAsAde20k(img,overlay=True)"
   ]
  },
  {
   "cell_type": "code",
   "execution_count": 10,
   "id": "15379945-e5f5-42a4-a847-6e8eafde7421",
   "metadata": {},
   "outputs": [
    {
     "data": {
      "text/plain": [
       "(1000, 667, 3)"
      ]
     },
     "execution_count": 10,
     "metadata": {},
     "output_type": "execute_result"
    }
   ],
   "source": [
    "output.shape"
   ]
  },
  {
   "cell_type": "code",
   "execution_count": null,
   "id": "72635de8-86c9-498e-8469-a5b76a8be3a4",
   "metadata": {},
   "outputs": [],
   "source": [
    "plt.imshow(cv2.cvtColor(output,cv2.COLOR_BGR2RGB))"
   ]
  },
  {
   "cell_type": "code",
   "execution_count": 12,
   "id": "395ddb43-bc3d-4485-bc79-c052bb02aaf9",
   "metadata": {},
   "outputs": [
    {
     "data": {
      "text/plain": [
       "{'class_ids': [13, 1, 8, 40, 17, 23],\n",
       " 'class_names': ['person', 'wall', 'bed', 'cushion', 'mountain', 'painting'],\n",
       " 'class_colors': [array([150,   5,  61]),\n",
       "  array([120, 120, 120]),\n",
       "  array([204,   5, 255]),\n",
       "  array([255, 194,   7]),\n",
       "  array([143, 255, 140]),\n",
       "  array([255,   6,  51])],\n",
       " 'masks': array([[False, False, False, ..., False, False, False],\n",
       "        [False, False, False, ..., False, False, False],\n",
       "        [False, False, False, ..., False, False, False],\n",
       "        ...,\n",
       "        [False, False, False, ..., False, False, False],\n",
       "        [False, False, False, ..., False, False, False],\n",
       "        [False, False, False, ..., False, False, False]]),\n",
       " 'ratios': [47.19345674486804,\n",
       "  33.69512921554252,\n",
       "  19.04726447947214,\n",
       "  0.051548753665689145,\n",
       "  0.008591458944281526,\n",
       "  0.004009347507331378]}"
      ]
     },
     "execution_count": 12,
     "metadata": {},
     "output_type": "execute_result"
    }
   ],
   "source": [
    "results"
   ]
  },
  {
   "cell_type": "code",
   "execution_count": null,
   "id": "e58a399b-d211-44c3-a1e0-a7f9c56bbc23",
   "metadata": {},
   "outputs": [],
   "source": []
  },
  {
   "cell_type": "code",
   "execution_count": null,
   "id": "1683ab47-231a-41f4-baa3-0360386ca969",
   "metadata": {},
   "outputs": [],
   "source": []
  }
 ],
 "metadata": {
  "kernelspec": {
   "display_name": "Python 3 (ipykernel)",
   "language": "python",
   "name": "python3"
  },
  "language_info": {
   "codemirror_mode": {
    "name": "ipython",
    "version": 3
   },
   "file_extension": ".py",
   "mimetype": "text/x-python",
   "name": "python",
   "nbconvert_exporter": "python",
   "pygments_lexer": "ipython3",
   "version": "3.8.17"
  }
 },
 "nbformat": 4,
 "nbformat_minor": 5
}
