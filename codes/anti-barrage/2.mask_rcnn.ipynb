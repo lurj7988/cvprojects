{
 "cells": [
  {
   "cell_type": "code",
   "execution_count": 1,
   "id": "8568bb50-147c-4db6-9c3a-43a4dc6a1b31",
   "metadata": {},
   "outputs": [],
   "source": [
    "# 导入常见包\n",
    "import cv2\n",
    "import numpy as np\n",
    "import matplotlib.pyplot as plt\n",
    "plt.rcParams['figure.dpi'] = 200"
   ]
  },
  {
   "cell_type": "code",
   "execution_count": 2,
   "id": "ad3d2ae0-3804-4ba0-9356-d637015ae7ee",
   "metadata": {},
   "outputs": [],
   "source": [
    "# 读取图片\n",
    "img = cv2.imread('./images/baby.jpg')\n",
    "img_cvt =cv2.cvtColor(img,cv2.COLOR_BGR2RGB)"
   ]
  },
  {
   "cell_type": "code",
   "execution_count": null,
   "id": "908124d4-0133-43f6-81f6-914ac3fa3747",
   "metadata": {},
   "outputs": [],
   "source": [
    "# 显示\n",
    "plt.imshow(img_cvt)"
   ]
  },
  {
   "cell_type": "code",
   "execution_count": 4,
   "id": "4bd04f08-bb33-4279-bb8a-bdd5e2fa75bb",
   "metadata": {},
   "outputs": [],
   "source": [
    "# 导入pixellib\n",
    "import pixellib"
   ]
  },
  {
   "cell_type": "code",
   "execution_count": 5,
   "id": "e0313165-b929-46b9-8669-6763c709815a",
   "metadata": {},
   "outputs": [],
   "source": [
    "# 导入实例分割\n",
    "from pixellib.instance import instance_segmentation"
   ]
  },
  {
   "cell_type": "code",
   "execution_count": 6,
   "id": "ab1b5861-9466-40e5-9699-95c7d8212cab",
   "metadata": {},
   "outputs": [],
   "source": [
    "# 实例化\n",
    "instance =  instance_segmentation()"
   ]
  },
  {
   "cell_type": "code",
   "execution_count": null,
   "id": "9691d857-ab80-4875-9f07-3d1ed4545159",
   "metadata": {},
   "outputs": [],
   "source": [
    "# 加载模型\n",
    "instance.load_model('./weights/mask_rcnn_coco.h5')"
   ]
  },
  {
   "cell_type": "code",
   "execution_count": 8,
   "id": "4426dd28-2587-4226-a92b-de3e14a55715",
   "metadata": {},
   "outputs": [],
   "source": [
    "# 实例分割\n",
    "target_classes = instance.select_target_classes(person=True)\n",
    "results,output = instance.segmentFrame(img.copy(),segment_target_classes=target_classes)"
   ]
  },
  {
   "cell_type": "code",
   "execution_count": null,
   "id": "b26b74d1-e7ba-41ad-b275-ee02d79aaa6b",
   "metadata": {},
   "outputs": [],
   "source": [
    "plt.imshow(cv2.cvtColor(output,cv2.COLOR_BGR2RGB))"
   ]
  },
  {
   "cell_type": "code",
   "execution_count": 10,
   "id": "5df7a756-7f0b-460d-80fc-c8219e6eca84",
   "metadata": {},
   "outputs": [],
   "source": [
    "# 根据实例分割结果构造蒙版\n",
    "# 构造弹幕文字图片，蒙版处理\n",
    "# 将弹幕和原图合成"
   ]
  },
  {
   "cell_type": "code",
   "execution_count": 11,
   "id": "62c43bcb-1c5f-42fb-a911-4d62f68f53d3",
   "metadata": {},
   "outputs": [
    {
     "data": {
      "text/plain": [
       "(1000, 667)"
      ]
     },
     "execution_count": 11,
     "metadata": {},
     "output_type": "execute_result"
    }
   ],
   "source": [
    "img.shape[:2]"
   ]
  },
  {
   "cell_type": "code",
   "execution_count": 12,
   "id": "c5dbba07-d7f6-4bd3-b322-02e14ef04351",
   "metadata": {},
   "outputs": [],
   "source": [
    "# 创建黑色背景图\n",
    "\n",
    "black_bg = np.zeros((img.shape[:2]))"
   ]
  },
  {
   "cell_type": "code",
   "execution_count": 13,
   "id": "cd3e69e4-d6f3-4e40-9d66-d40232b9ca9a",
   "metadata": {},
   "outputs": [],
   "source": [
    "# black_bg[0:100,0:200]=255"
   ]
  },
  {
   "cell_type": "code",
   "execution_count": null,
   "id": "ce4995f5-1ca0-4a3a-a0bc-1f888c795671",
   "metadata": {},
   "outputs": [],
   "source": [
    "plt.imshow(black_bg,cmap='gray')"
   ]
  },
  {
   "cell_type": "code",
   "execution_count": 15,
   "id": "c6d8a4c1-0c6b-4997-a9e8-2a4794634730",
   "metadata": {},
   "outputs": [],
   "source": [
    "person_count = len(results['class_ids'])\n",
    "masks = results['masks']"
   ]
  },
  {
   "cell_type": "code",
   "execution_count": 16,
   "id": "a4830895-71b9-428f-9e46-e92cdbc33685",
   "metadata": {},
   "outputs": [
    {
     "data": {
      "text/plain": [
       "(1000, 667, 4)"
      ]
     },
     "execution_count": 16,
     "metadata": {},
     "output_type": "execute_result"
    }
   ],
   "source": [
    "masks.shape"
   ]
  },
  {
   "cell_type": "code",
   "execution_count": 17,
   "id": "661bfc37-0ee8-4586-9806-5df89e65f747",
   "metadata": {},
   "outputs": [],
   "source": [
    "# 将多个人结果合成一个蒙版\n",
    "for p_index in range(person_count):\n",
    "    black_bg = np.where(masks[:,:,p_index]==True,255,black_bg)"
   ]
  },
  {
   "cell_type": "code",
   "execution_count": null,
   "id": "d812c5c4-569b-48c8-85d9-d874a43680a2",
   "metadata": {},
   "outputs": [],
   "source": [
    "plt.imshow(black_bg,cmap='gray')"
   ]
  },
  {
   "cell_type": "code",
   "execution_count": 19,
   "id": "40e63740-8e4e-4ab3-bea2-891415f0a023",
   "metadata": {},
   "outputs": [],
   "source": [
    "# 构造弹幕图片\n"
   ]
  },
  {
   "cell_type": "code",
   "execution_count": 20,
   "id": "b7f6b854-a006-43c7-92f7-55b518e91c75",
   "metadata": {},
   "outputs": [],
   "source": [
    "# 导入PIL\n",
    "from PIL import Image,ImageDraw,ImageFont"
   ]
  },
  {
   "cell_type": "code",
   "execution_count": 21,
   "id": "1178fd21-46db-4b22-95b9-145129150ed9",
   "metadata": {},
   "outputs": [],
   "source": [
    "h = img.shape[0]\n",
    "w = img.shape[1]"
   ]
  },
  {
   "cell_type": "code",
   "execution_count": 22,
   "id": "618b7e38-2f1c-45a9-8f00-10fcb820335b",
   "metadata": {},
   "outputs": [],
   "source": [
    "# 透明底图\n",
    "trans_bg = Image.new(\"RGBA\",(w,h),(255,0,255,0))"
   ]
  },
  {
   "cell_type": "code",
   "execution_count": null,
   "id": "9c91e822-8d69-492a-8d27-a8cf1b74b070",
   "metadata": {},
   "outputs": [],
   "source": [
    "trans_bg"
   ]
  },
  {
   "cell_type": "code",
   "execution_count": null,
   "id": "e33ee9e7-137f-4db4-935f-48d65919fb4b",
   "metadata": {},
   "outputs": [],
   "source": []
  },
  {
   "cell_type": "code",
   "execution_count": 25,
   "id": "dee652f0-8c65-40dc-a1c4-5f3ef2bf86c0",
   "metadata": {},
   "outputs": [],
   "source": [
    "# 绘制\n",
    "d = ImageDraw.Draw(trans_bg)"
   ]
  },
  {
   "cell_type": "code",
   "execution_count": 26,
   "id": "9e399d9a-d758-4d8a-a68b-c8a76cb31d2b",
   "metadata": {},
   "outputs": [],
   "source": [
    "font = ImageFont.truetype('./fonts/MSYH.ttc',40,encoding=\"utf-8\")"
   ]
  },
  {
   "cell_type": "code",
   "execution_count": 27,
   "id": "61b99e99-8571-437d-8380-0de5cb2fd932",
   "metadata": {},
   "outputs": [],
   "source": [
    "d.text((-100,10),\"计算机视觉计算机视觉计算机视觉计算机视觉计算机视觉\",font=font,fill=(255,0,255,255))\n",
    "d.text((10,80),\"计算机视觉计算机视觉计算机视觉计算机视觉计算机视觉\",font=font,fill=(255,0,255,255))\n",
    "d.text((10,150),\"计算机视觉计算机视觉计算机视觉计算机视觉计算机视觉\",font=font,fill=(255,0,255,255))\n",
    "d.text((10,220),\"计算机视觉计算机视觉计算机视觉计算机视觉计算机视觉\",font=font,fill=(255,0,255,255))\n",
    "d.text((10,290),\"计算机视觉计算机视觉计算机视觉计算机视觉计算机视觉\",font=font,fill=(255,0,255,255))"
   ]
  },
  {
   "cell_type": "code",
   "execution_count": null,
   "id": "c072ecb5-4000-4982-9af9-2799c4942114",
   "metadata": {},
   "outputs": [],
   "source": [
    "trans_bg"
   ]
  },
  {
   "cell_type": "code",
   "execution_count": 29,
   "id": "4d7c35d4-1251-4da0-af53-f8032d227017",
   "metadata": {},
   "outputs": [],
   "source": [
    "# 将弹幕层图片蒙版处理"
   ]
  },
  {
   "cell_type": "code",
   "execution_count": 30,
   "id": "d05e4682-602c-43df-815d-65ee54b9f13e",
   "metadata": {},
   "outputs": [],
   "source": [
    "trans_bg_np = np.asarray(trans_bg)"
   ]
  },
  {
   "cell_type": "code",
   "execution_count": 31,
   "id": "acc9d988-7415-40a7-8cbb-cdee912d369d",
   "metadata": {},
   "outputs": [
    {
     "data": {
      "text/plain": [
       "(1000, 667, 4)"
      ]
     },
     "execution_count": 31,
     "metadata": {},
     "output_type": "execute_result"
    }
   ],
   "source": [
    "trans_bg_np.shape"
   ]
  },
  {
   "cell_type": "code",
   "execution_count": 32,
   "id": "1f572de7-7ac2-493a-9cd6-afa80ff434f8",
   "metadata": {},
   "outputs": [],
   "source": [
    "trans_bg_np=trans_bg_np.copy()"
   ]
  },
  {
   "cell_type": "code",
   "execution_count": 33,
   "id": "4d6d9637-8fb5-44ef-b1be-a04bb114477f",
   "metadata": {},
   "outputs": [],
   "source": [
    "# alpha通道设置\n",
    "trans_bg_np[:,:,3] = np.where(black_bg==255,0,trans_bg_np[:,:,3])"
   ]
  },
  {
   "cell_type": "code",
   "execution_count": null,
   "id": "5d388f96-be43-4396-8565-1003522146d1",
   "metadata": {},
   "outputs": [],
   "source": [
    "plt.imshow(trans_bg_np)"
   ]
  },
  {
   "cell_type": "code",
   "execution_count": 35,
   "id": "17a36eed-1725-41f9-bc31-931dea2d0d50",
   "metadata": {},
   "outputs": [],
   "source": [
    "# 将原图和弹幕图合成一起\n"
   ]
  },
  {
   "cell_type": "code",
   "execution_count": 36,
   "id": "b9809849-7150-4b4a-9645-afa48b6858c5",
   "metadata": {},
   "outputs": [],
   "source": [
    "# 转为PIL格式\n",
    "trans_bg_np_pil = Image.fromarray(trans_bg_np)\n",
    "\n",
    "# 将原图转为RGBA\n",
    "img_rgba = cv2.cvtColor(img,cv2.COLOR_BGR2RGBA)\n",
    "img_pil = Image.fromarray(img_rgba)"
   ]
  },
  {
   "cell_type": "code",
   "execution_count": null,
   "id": "270d4d13-9629-43df-9b94-03f809756521",
   "metadata": {},
   "outputs": [],
   "source": [
    "Image.alpha_composite(img_pil,trans_bg_np_pil)"
   ]
  },
  {
   "cell_type": "code",
   "execution_count": null,
   "id": "01a0de10-547b-4b61-bbdc-d315e034285b",
   "metadata": {},
   "outputs": [],
   "source": []
  }
 ],
 "metadata": {
  "kernelspec": {
   "display_name": "Python 3 (ipykernel)",
   "language": "python",
   "name": "python3"
  },
  "language_info": {
   "codemirror_mode": {
    "name": "ipython",
    "version": 3
   },
   "file_extension": ".py",
   "mimetype": "text/x-python",
   "name": "python",
   "nbconvert_exporter": "python",
   "pygments_lexer": "ipython3",
   "version": "3.8.17"
  }
 },
 "nbformat": 4,
 "nbformat_minor": 5
}
