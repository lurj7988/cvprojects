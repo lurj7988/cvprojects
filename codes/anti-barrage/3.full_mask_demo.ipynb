{
 "cells": [
  {
   "cell_type": "code",
   "execution_count": 1,
   "id": "a538088c-43d3-4575-8a21-37e8bc97010c",
   "metadata": {},
   "outputs": [],
   "source": [
    "# 合成弹幕与MASK蒙版"
   ]
  },
  {
   "cell_type": "code",
   "execution_count": 2,
   "id": "1c9838a7-f070-435c-88c1-236beef1e40a",
   "metadata": {},
   "outputs": [],
   "source": [
    "import cv2\n",
    "import numpy as np\n",
    "import matplotlib.pyplot as plt\n",
    "# %matplotlib inline\n",
    "plt.rcParams['figure.dpi'] = 300"
   ]
  },
  {
   "cell_type": "code",
   "execution_count": 3,
   "id": "0dc55f9a-9420-4624-9577-238b6eb4508c",
   "metadata": {},
   "outputs": [],
   "source": [
    "# 读取照片\n",
    "img = cv2.imread('./images/baby.jpg')\n",
    "img_cvt = cv2.cvtColor(img,cv2.COLOR_BGR2RGB)"
   ]
  },
  {
   "cell_type": "code",
   "execution_count": null,
   "id": "70d20285-767a-4801-ab6a-8b82b1246075",
   "metadata": {},
   "outputs": [],
   "source": [
    "# 显示\n",
    "plt.imshow(img_cvt)"
   ]
  },
  {
   "cell_type": "code",
   "execution_count": 5,
   "id": "f5e17b6f-dcf8-4863-8b8f-fe7c75ae0ace",
   "metadata": {},
   "outputs": [],
   "source": [
    "# 获取MASK\n",
    "import pixellib\n",
    "from pixellib.instance import instance_segmentation"
   ]
  },
  {
   "cell_type": "code",
   "execution_count": 6,
   "id": "83f7160f-27e9-469f-b82e-488f6f9e1f6e",
   "metadata": {},
   "outputs": [
    {
     "name": "stdout",
     "output_type": "stream",
     "text": [
      "WARNING:tensorflow:From /Users/zhaoenpei/miniconda3/envs/demo_py3.8/lib/python3.8/site-packages/tensorflow/python/util/deprecation.py:605: calling map_fn_v2 (from tensorflow.python.ops.map_fn) with dtype is deprecated and will be removed in a future version.\n",
      "Instructions for updating:\n",
      "Use fn_output_signature instead\n"
     ]
    },
    {
     "name": "stderr",
     "output_type": "stream",
     "text": [
      "2022-03-02 17:08:26.831283: I tensorflow/core/platform/cpu_feature_guard.cc:142] This TensorFlow binary is optimized with oneAPI Deep Neural Network Library (oneDNN) to use the following CPU instructions in performance-critical operations:  SSE4.1 SSE4.2 AVX AVX2 FMA\n",
      "To enable them in other operations, rebuild TensorFlow with the appropriate compiler flags.\n",
      "2022-03-02 17:08:27.536609: I tensorflow/compiler/mlir/mlir_graph_optimization_pass.cc:196] None of the MLIR optimization passes are enabled (registered 0 passes)\n"
     ]
    }
   ],
   "source": [
    "# 实例化\n",
    "segment_frame = instance_segmentation()\n",
    "segment_frame.load_model(\"weights/mask_rcnn_coco.h5\")\n",
    "# 选择类别\n",
    "target_classes = segment_frame.select_target_classes(person = True)"
   ]
  },
  {
   "cell_type": "code",
   "execution_count": 7,
   "id": "ee9f1135-3fca-4111-af39-b2306ade43a4",
   "metadata": {},
   "outputs": [
    {
     "name": "stderr",
     "output_type": "stream",
     "text": [
      "/Users/zhaoenpei/miniconda3/envs/demo_py3.8/lib/python3.8/site-packages/tensorflow/python/keras/engine/training.py:2325: UserWarning: `Model.state_updates` will be removed in a future version. This property should not be used in TensorFlow 2.0, as `updates` are applied automatically.\n",
      "  warnings.warn('`Model.state_updates` will be removed in a future version. '\n"
     ]
    }
   ],
   "source": [
    "# 分割\n",
    "results, output = segment_frame.segmentFrame( img, segment_target_classes = target_classes,show_bboxes = False )"
   ]
  },
  {
   "cell_type": "code",
   "execution_count": null,
   "id": "4a5f361f-106b-4998-b34b-3fbc917843d9",
   "metadata": {},
   "outputs": [],
   "source": [
    "# 显示\n",
    "plt.imshow(cv2.cvtColor(output,cv2.COLOR_BGR2RGB))"
   ]
  },
  {
   "cell_type": "code",
   "execution_count": 9,
   "id": "9c8d1e07-f673-45f3-b54c-8cc25f8246e6",
   "metadata": {},
   "outputs": [
    {
     "name": "stdout",
     "output_type": "stream",
     "text": [
      "(1000, 667, 4)\n"
     ]
    }
   ],
   "source": [
    "# 查看蒙版\n",
    "mask = results['masks']\n",
    "print(mask.shape)"
   ]
  },
  {
   "cell_type": "code",
   "execution_count": 10,
   "id": "e8001d5a-f569-499b-bf81-099e81857d83",
   "metadata": {},
   "outputs": [],
   "source": [
    "# 人数\n",
    "instance_num = len(results['class_ids'])"
   ]
  },
  {
   "cell_type": "code",
   "execution_count": 11,
   "id": "09329067-b449-447b-ba18-9fcea2260512",
   "metadata": {},
   "outputs": [
    {
     "data": {
      "text/plain": [
       "4"
      ]
     },
     "execution_count": 11,
     "metadata": {},
     "output_type": "execute_result"
    }
   ],
   "source": [
    "instance_num"
   ]
  },
  {
   "cell_type": "code",
   "execution_count": 12,
   "id": "ee6b5919-55c2-4344-89a5-825f6c4f20ff",
   "metadata": {},
   "outputs": [],
   "source": [
    "# 拼接MASK\n",
    "# 创建一个黑色背景图\n",
    "mask_layer = np.zeros(output.shape[:2])\n",
    "\n",
    "for index in range(instance_num) :\n",
    "    # 使mask为TRUE位置变成白色\n",
    "    mask_layer = np.where(mask[:,:,index] == True,255,mask_layer)\n"
   ]
  },
  {
   "cell_type": "code",
   "execution_count": null,
   "id": "630b8f97-53c0-4829-9cef-10de16f16332",
   "metadata": {},
   "outputs": [],
   "source": [
    "# 显示\n",
    "plt.imshow(mask_layer,cmap=\"gray\")"
   ]
  },
  {
   "cell_type": "code",
   "execution_count": 14,
   "id": "a773f270-fd1c-481c-9ced-ef98ef49bd16",
   "metadata": {},
   "outputs": [
    {
     "data": {
      "text/plain": [
       "(1000, 667)"
      ]
     },
     "execution_count": 14,
     "metadata": {},
     "output_type": "execute_result"
    }
   ],
   "source": [
    "mask_layer.shape"
   ]
  },
  {
   "cell_type": "code",
   "execution_count": 15,
   "id": "e90d4296-32ac-40dd-bd0a-d464b8053e76",
   "metadata": {},
   "outputs": [],
   "source": [
    "# 导入PIL\n",
    "from PIL import Image, ImageDraw, ImageFont"
   ]
  },
  {
   "cell_type": "code",
   "execution_count": 36,
   "id": "14c90e67-8b49-47f7-a42f-1e3d6b5ee79d",
   "metadata": {},
   "outputs": [],
   "source": [
    "w,h = mask_layer.shape[1],mask_layer.shape[0]\n",
    "\n",
    "# 构造透明图：https://rgbacolorpicker.com/\n",
    "\n",
    "danmu_img = Image.new(\"RGBA\", (w,h), (255, 255, 255, 0))\n",
    "\n",
    "# 绘制\n",
    "d = ImageDraw.Draw(danmu_img)\n",
    "\n",
    "# 获取字体\n",
    "fnt = ImageFont.truetype(\"./fonts/MSYH.ttc\", 40, encoding=\"utf-8\")\n",
    "\n",
    "# 绘制字体\n",
    "d.text((-130000, 100), \"你好恩培，这个是字幕，恩培，这个是字幕，恩培，这个是字幕，恩培，这个是字幕                                    你好恩培，这个是字幕，恩培，这个是字幕，恩培，这个是字幕，恩培，这个是字幕                                     你好恩培，这个是字幕，恩培，这个是字幕，恩培，这个是字幕，恩培，这个是字幕                                     你好恩培，这个是字幕，恩培，这个是字幕，恩培，这个是字幕，恩培，这个是字幕                                     你好恩培，这个是字幕，恩培，这个是字幕，恩培，这个是字幕，恩培，这个是字幕                                     你好恩培，这个是字幕，恩培，这个是字幕，恩培，这个是字幕，恩培，这个是字幕                                     你好恩培，这个是字幕，恩培，这个是字幕，恩培，这个是字幕，恩培，这个是字幕                                    你好恩培，这个是字幕，恩培，这个是字幕，恩培，这个是字幕，恩培，这个是字幕                                     你好恩培，这个是字幕，恩培，这个是字幕，恩培，这个是字幕，恩培，这个是字幕                                     你好恩培，这个是字幕，恩培，这个是字幕，恩培，这个是字幕，恩培，这个是字幕                                     你好恩培，这个是字幕，恩培，这个是字幕，恩培，这个是字幕，恩培，这个是字幕                                     你好恩培，这个是字幕，恩培，这个是字幕，恩培，这个是字幕，恩培，这个是字幕                                     你好恩培，这个是字幕，恩培，这个是字幕，恩培，这个是字幕，恩培，这个是字幕                                    你好恩培，这个是字幕，恩培，这个是字幕，恩培，这个是字幕，恩培，这个是字幕                                     你好恩培，这个是字幕，恩培，这个是字幕，恩培，这个是字幕，恩培，这个是字幕                                     你好恩培，这个是字幕，恩培，这个是字幕，恩培，这个是字幕，恩培，这个是字幕                                     你好恩培，这个是字幕，恩培，这个是字幕，恩培，这个是字幕，恩培，这个是字幕                                     你好恩培，这个是字幕，恩培，这个是字幕，恩培，这个是字幕，恩培，这个是字幕                                     你好恩培，这个是字幕，恩培，这个是字幕，恩培，这个是字幕，恩培，这个是字幕                                    你好恩培，这个是字幕，恩培，这个是字幕，恩培，这个是字幕，恩培，这个是字幕                                     你好恩培，这个是字幕，恩培，这个是字幕，恩培，这个是字幕，恩培，这个是字幕                                     你好恩培，这个是字幕，恩培，这个是字幕，恩培，这个是字幕，恩培，这个是字幕                                     你好恩培，这个是字幕，恩培，这个是字幕，恩培，这个是字幕，恩培，这个是字幕                                     你好恩培，这个是字幕，恩培，这个是字幕，恩培，这个是字幕，恩培，这个是字幕                                     你好恩培，这个是字幕，恩培，这个是字幕，恩培，这个是字幕，恩培，这个是字幕 \", font=fnt, fill=(255, 0, 255, 255))\n",
    "\n",
    "d.text((10, 200), \"恩培，这个是字幕，恩培，这个是字幕，恩培，这个是字幕，恩培，这个是字幕\", font=fnt, fill=(0, 255, 0, 255))\n",
    "\n",
    "d.text((10, 300), \"恩培，这个是字幕，恩培，这个是字幕，恩培，这个是字幕，恩培，这个是字幕\", font=fnt, fill=(255, 0, 255, 255))\n",
    "\n",
    "d.text((10, 400), \"恩培，这个是字幕，恩培，这个是字幕，恩培，这个是字幕，恩培，这个是字幕\", font=fnt, fill=(255, 0, 255, 255))\n",
    "\n",
    "d.text((10, 500), \"恩培，这个是字幕，恩培，这个是字幕，恩培，这个是字幕，恩培，这个是字幕\", font=fnt, fill=(255, 0, 255, 255))\n"
   ]
  },
  {
   "cell_type": "code",
   "execution_count": null,
   "id": "c53e3897-f330-4139-b6fd-6ac7546886d0",
   "metadata": {},
   "outputs": [],
   "source": [
    "danmu_img"
   ]
  },
  {
   "cell_type": "code",
   "execution_count": 39,
   "id": "f69226be-660f-42bd-be1b-482053b20fd6",
   "metadata": {},
   "outputs": [],
   "source": [
    "# 构造MASK区域\n",
    "\n",
    "# 转为numpy格式数据好处理\n",
    "danmu_np = np.asarray(danmu_img)\n"
   ]
  },
  {
   "cell_type": "code",
   "execution_count": 40,
   "id": "50342efe-fb0a-4e98-b95e-49d13cdd5a80",
   "metadata": {},
   "outputs": [],
   "source": [
    "# 将弹幕与MASK图片进行对比\n",
    "danmu_np[:,:,3] = np.where(mask_layer== 255,0,danmu_np[:,:,3])"
   ]
  },
  {
   "cell_type": "code",
   "execution_count": 41,
   "id": "a4a5f852-5111-4d47-a657-0b1608315a9b",
   "metadata": {},
   "outputs": [],
   "source": [
    "# 转换回PIL格式\n",
    "danmu_pil = Image.fromarray(danmu_np)"
   ]
  },
  {
   "cell_type": "code",
   "execution_count": null,
   "id": "120e8dfa-192e-4fbf-a365-f6913732fa0f",
   "metadata": {},
   "outputs": [],
   "source": [
    "danmu_pil"
   ]
  },
  {
   "cell_type": "code",
   "execution_count": 22,
   "id": "d4d81423-2b81-47e2-b79a-3afcf3d862d7",
   "metadata": {},
   "outputs": [],
   "source": [
    "# 拼接原视频与带MASK的代码\n",
    "\n",
    "# 将底图转为RGBA格式\n",
    "img_rgba = cv2.cvtColor(img_cvt,cv2.COLOR_RGB2RGBA)\n",
    "# 转为PIL格式\n",
    "img_rgba = Image.fromarray(img_rgba)\n",
    "\n",
    "\n",
    "# 拼接图片\n",
    "out = Image.alpha_composite(img_rgba, danmu_pil)"
   ]
  },
  {
   "cell_type": "code",
   "execution_count": null,
   "id": "07761a83-7d98-4ee6-8ce0-c4140b8d2b2d",
   "metadata": {},
   "outputs": [],
   "source": [
    "out"
   ]
  },
  {
   "cell_type": "code",
   "execution_count": null,
   "id": "e95f3517-a24b-4fe7-9adc-fc4b710eecca",
   "metadata": {},
   "outputs": [],
   "source": []
  },
  {
   "cell_type": "code",
   "execution_count": null,
   "id": "46432aba-2d5c-462f-9cfd-c2e481047c3b",
   "metadata": {},
   "outputs": [],
   "source": []
  },
  {
   "cell_type": "code",
   "execution_count": null,
   "id": "617f53d7-18b0-419b-836f-5182dbf04745",
   "metadata": {},
   "outputs": [],
   "source": []
  }
 ],
 "metadata": {
  "kernelspec": {
   "display_name": "Python 3 (ipykernel)",
   "language": "python",
   "name": "python3"
  },
  "language_info": {
   "codemirror_mode": {
    "name": "ipython",
    "version": 3
   },
   "file_extension": ".py",
   "mimetype": "text/x-python",
   "name": "python",
   "nbconvert_exporter": "python",
   "pygments_lexer": "ipython3",
   "version": "3.8.17"
  }
 },
 "nbformat": 4,
 "nbformat_minor": 5
}
